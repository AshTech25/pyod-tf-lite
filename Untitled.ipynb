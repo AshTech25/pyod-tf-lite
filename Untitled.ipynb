{
 "cells": [
  {
   "cell_type": "code",
   "execution_count": 5,
   "id": "145033c9",
   "metadata": {},
   "outputs": [
    {
     "name": "stdout",
     "output_type": "stream",
     "text": [
      "Processing /Users/ashir.rahman/Downloads/PYOD/pyod\n",
      "  Preparing metadata (setup.py) ... \u001b[?25ldone\n",
      "\u001b[?25hRequirement already satisfied: joblib in /Library/Frameworks/Python.framework/Versions/3.11/lib/python3.11/site-packages (from pyod==1.1.4) (1.3.2)\n",
      "Requirement already satisfied: matplotlib in /Library/Frameworks/Python.framework/Versions/3.11/lib/python3.11/site-packages (from pyod==1.1.4) (3.8.2)\n",
      "Requirement already satisfied: numpy>=1.19 in /Library/Frameworks/Python.framework/Versions/3.11/lib/python3.11/site-packages (from pyod==1.1.4) (1.26.2)\n",
      "Requirement already satisfied: numba>=0.51 in /Library/Frameworks/Python.framework/Versions/3.11/lib/python3.11/site-packages (from pyod==1.1.4) (0.59.1)\n",
      "Requirement already satisfied: scipy>=1.5.1 in /Library/Frameworks/Python.framework/Versions/3.11/lib/python3.11/site-packages (from pyod==1.1.4) (1.11.4)\n",
      "Requirement already satisfied: scikit-learn>=0.22.0 in /Library/Frameworks/Python.framework/Versions/3.11/lib/python3.11/site-packages (from pyod==1.1.4) (1.3.2)\n",
      "Requirement already satisfied: llvmlite<0.43,>=0.42.0dev0 in /Library/Frameworks/Python.framework/Versions/3.11/lib/python3.11/site-packages (from numba>=0.51->pyod==1.1.4) (0.42.0)\n",
      "Requirement already satisfied: threadpoolctl>=2.0.0 in /Library/Frameworks/Python.framework/Versions/3.11/lib/python3.11/site-packages (from scikit-learn>=0.22.0->pyod==1.1.4) (3.2.0)\n",
      "Requirement already satisfied: contourpy>=1.0.1 in /Library/Frameworks/Python.framework/Versions/3.11/lib/python3.11/site-packages (from matplotlib->pyod==1.1.4) (1.2.0)\n",
      "Requirement already satisfied: cycler>=0.10 in /Library/Frameworks/Python.framework/Versions/3.11/lib/python3.11/site-packages (from matplotlib->pyod==1.1.4) (0.12.1)\n",
      "Requirement already satisfied: fonttools>=4.22.0 in /Library/Frameworks/Python.framework/Versions/3.11/lib/python3.11/site-packages (from matplotlib->pyod==1.1.4) (4.47.2)\n",
      "Requirement already satisfied: kiwisolver>=1.3.1 in /Library/Frameworks/Python.framework/Versions/3.11/lib/python3.11/site-packages (from matplotlib->pyod==1.1.4) (1.4.5)\n",
      "Requirement already satisfied: packaging>=20.0 in /Users/ashir.rahman/Library/Python/3.11/lib/python/site-packages (from matplotlib->pyod==1.1.4) (23.2)\n",
      "Requirement already satisfied: pillow>=8 in /Library/Frameworks/Python.framework/Versions/3.11/lib/python3.11/site-packages (from matplotlib->pyod==1.1.4) (10.1.0)\n",
      "Requirement already satisfied: pyparsing>=2.3.1 in /Library/Frameworks/Python.framework/Versions/3.11/lib/python3.11/site-packages (from matplotlib->pyod==1.1.4) (3.1.1)\n",
      "Requirement already satisfied: python-dateutil>=2.7 in /Users/ashir.rahman/Library/Python/3.11/lib/python/site-packages (from matplotlib->pyod==1.1.4) (2.8.2)\n",
      "Requirement already satisfied: six>=1.5 in /Users/ashir.rahman/Library/Python/3.11/lib/python/site-packages (from python-dateutil>=2.7->matplotlib->pyod==1.1.4) (1.16.0)\n",
      "Building wheels for collected packages: pyod\n",
      "  Building wheel for pyod (setup.py) ... \u001b[?25ldone\n",
      "\u001b[?25h  Created wheel for pyod: filename=pyod-1.1.4-py3-none-any.whl size=314556 sha256=696a010d7f344a7ffa8e4c966494e7c1b68a34504dc1043e71cff09c1c5c2fe0\n",
      "  Stored in directory: /private/var/folders/gj/t6hjc9q5745_m8rhl6z_f48m0000gn/T/pip-ephem-wheel-cache-xtexh8wt/wheels/bd/4c/dc/0a3d5c84dfc8c8d42e4eb0a30a5337870c200846fc41757b6f\n",
      "Successfully built pyod\n",
      "Installing collected packages: pyod\n",
      "  Attempting uninstall: pyod\n",
      "    Found existing installation: pyod 1.1.4\n",
      "    Uninstalling pyod-1.1.4:\n",
      "      Successfully uninstalled pyod-1.1.4\n",
      "Successfully installed pyod-1.1.4\n",
      "\n",
      "\u001b[1m[\u001b[0m\u001b[34;49mnotice\u001b[0m\u001b[1;39;49m]\u001b[0m\u001b[39;49m A new release of pip is available: \u001b[0m\u001b[31;49m23.3.2\u001b[0m\u001b[39;49m -> \u001b[0m\u001b[32;49m24.0\u001b[0m\n",
      "\u001b[1m[\u001b[0m\u001b[34;49mnotice\u001b[0m\u001b[1;39;49m]\u001b[0m\u001b[39;49m To update, run: \u001b[0m\u001b[32;49mpython3 -m pip install --upgrade pip\u001b[0m\n",
      "Note: you may need to restart the kernel to use updated packages.\n"
     ]
    }
   ],
   "source": [
    "pip install ."
   ]
  },
  {
   "cell_type": "code",
   "execution_count": 7,
   "id": "3123943d",
   "metadata": {},
   "outputs": [],
   "source": [
    "from pyod.models.auto_encoder import AutoEncoder"
   ]
  },
  {
   "cell_type": "code",
   "execution_count": 8,
   "id": "258fee59",
   "metadata": {},
   "outputs": [],
   "source": [
    "model = AutoEncoder()"
   ]
  },
  {
   "cell_type": "code",
   "execution_count": 10,
   "id": "d2b8c2ee",
   "metadata": {},
   "outputs": [],
   "source": [
    "model_path = 'your_model.tflite'"
   ]
  },
  {
   "cell_type": "code",
   "execution_count": 12,
   "id": "b7021cd5",
   "metadata": {},
   "outputs": [
    {
     "ename": "AttributeError",
     "evalue": "'AutoEncoder' object has no attribute 'n_features_'",
     "output_type": "error",
     "traceback": [
      "\u001b[0;31m---------------------------------------------------------------------------\u001b[0m",
      "\u001b[0;31mAttributeError\u001b[0m                            Traceback (most recent call last)",
      "Cell \u001b[0;32mIn[12], line 1\u001b[0m\n\u001b[0;32m----> 1\u001b[0m \u001b[43mmodel\u001b[49m\u001b[38;5;241;43m.\u001b[39;49m\u001b[43mconvert_to_tflite\u001b[49m\u001b[43m(\u001b[49m\u001b[43mmodel_path\u001b[49m\u001b[43m)\u001b[49m\n",
      "File \u001b[0;32m~/Downloads/PYOD/pyod/pyod/models/auto_encoder.py:276\u001b[0m, in \u001b[0;36mAutoEncoder.convert_to_tflite\u001b[0;34m(self, model_path)\u001b[0m\n\u001b[1;32m    275\u001b[0m \u001b[38;5;28;01mdef\u001b[39;00m \u001b[38;5;21mconvert_to_tflite\u001b[39m(\u001b[38;5;28mself\u001b[39m,model_path):\n\u001b[0;32m--> 276\u001b[0m     model \u001b[38;5;241m=\u001b[39m \u001b[38;5;28;43mself\u001b[39;49m\u001b[38;5;241;43m.\u001b[39;49m\u001b[43m_build_model\u001b[49m\u001b[43m(\u001b[49m\u001b[43m)\u001b[49m\n\u001b[1;32m    277\u001b[0m     converter \u001b[38;5;241m=\u001b[39m tf\u001b[38;5;241m.\u001b[39mlite\u001b[38;5;241m.\u001b[39mTFLiteConverter\u001b[38;5;241m.\u001b[39mfrom_keras_model(model)\n\u001b[1;32m    278\u001b[0m     converter\u001b[38;5;241m.\u001b[39moptimizations \u001b[38;5;241m=\u001b[39m [tf\u001b[38;5;241m.\u001b[39mlite\u001b[38;5;241m.\u001b[39mOptimize\u001b[38;5;241m.\u001b[39mDEFAULT]\n",
      "File \u001b[0;32m~/Downloads/PYOD/pyod/pyod/models/auto_encoder.py:179\u001b[0m, in \u001b[0;36mAutoEncoder._build_model\u001b[0;34m(self)\u001b[0m\n\u001b[1;32m    175\u001b[0m model \u001b[38;5;241m=\u001b[39m Sequential()\n\u001b[1;32m    176\u001b[0m \u001b[38;5;66;03m# Input layer\u001b[39;00m\n\u001b[1;32m    177\u001b[0m model\u001b[38;5;241m.\u001b[39madd(Dense(\n\u001b[1;32m    178\u001b[0m     \u001b[38;5;28mself\u001b[39m\u001b[38;5;241m.\u001b[39mhidden_neurons_[\u001b[38;5;241m0\u001b[39m], activation\u001b[38;5;241m=\u001b[39m\u001b[38;5;28mself\u001b[39m\u001b[38;5;241m.\u001b[39mhidden_activation,\n\u001b[0;32m--> 179\u001b[0m     input_shape\u001b[38;5;241m=\u001b[39m(\u001b[38;5;28;43mself\u001b[39;49m\u001b[38;5;241;43m.\u001b[39;49m\u001b[43mn_features_\u001b[49m,),\n\u001b[1;32m    180\u001b[0m     activity_regularizer\u001b[38;5;241m=\u001b[39ml2(\u001b[38;5;28mself\u001b[39m\u001b[38;5;241m.\u001b[39ml2_regularizer)))\n\u001b[1;32m    181\u001b[0m model\u001b[38;5;241m.\u001b[39madd(Dropout(\u001b[38;5;28mself\u001b[39m\u001b[38;5;241m.\u001b[39mdropout_rate))\n\u001b[1;32m    183\u001b[0m \u001b[38;5;66;03m# Additional layers\u001b[39;00m\n",
      "\u001b[0;31mAttributeError\u001b[0m: 'AutoEncoder' object has no attribute 'n_features_'"
     ]
    }
   ],
   "source": [
    "model.convert_to_tflite(model_path)"
   ]
  }
 ],
 "metadata": {
  "kernelspec": {
   "display_name": "Python 3 (ipykernel)",
   "language": "python",
   "name": "python3"
  },
  "language_info": {
   "codemirror_mode": {
    "name": "ipython",
    "version": 3
   },
   "file_extension": ".py",
   "mimetype": "text/x-python",
   "name": "python",
   "nbconvert_exporter": "python",
   "pygments_lexer": "ipython3",
   "version": "3.11.6"
  }
 },
 "nbformat": 4,
 "nbformat_minor": 5
}
